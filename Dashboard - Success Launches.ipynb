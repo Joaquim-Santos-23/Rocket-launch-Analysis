{
    "cells": [
        {
            "cell_type": "code",
            "execution_count": 3,
            "metadata": {},
            "outputs": [
                {
                    "name": "stdout",
                    "output_type": "stream",
                    "text": "/opt/conda/envs/Python-3.7-OpenCE/lib/python3.7/site-packages/secretstorage/dhcrypto.py:16: CryptographyDeprecationWarning: int_from_bytes is deprecated, use int.from_bytes instead\n  from cryptography.utils import int_from_bytes\n/opt/conda/envs/Python-3.7-OpenCE/lib/python3.7/site-packages/secretstorage/util.py:25: CryptographyDeprecationWarning: int_from_bytes is deprecated, use int.from_bytes instead\n  from cryptography.utils import int_from_bytes\nCollecting jupyter-dash\n  Downloading jupyter_dash-0.4.0-py3-none-any.whl (20 kB)\nRequirement already satisfied: ipython in /opt/conda/envs/Python-3.7-OpenCE/lib/python3.7/site-packages (from jupyter-dash) (7.15.0)\nRequirement already satisfied: dash in /opt/conda/envs/Python-3.7-OpenCE/lib/python3.7/site-packages (from jupyter-dash) (2.0.0)\nRequirement already satisfied: ipykernel in /opt/conda/envs/Python-3.7-OpenCE/lib/python3.7/site-packages (from jupyter-dash) (5.3.0)\nCollecting ansi2html\n  Downloading ansi2html-1.6.0-py3-none-any.whl (14 kB)\nRequirement already satisfied: flask in /opt/conda/envs/Python-3.7-OpenCE/lib/python3.7/site-packages (from jupyter-dash) (2.0.1)\nRequirement already satisfied: requests in /opt/conda/envs/Python-3.7-OpenCE/lib/python3.7/site-packages (from jupyter-dash) (2.25.1)\nRequirement already satisfied: retrying in /opt/conda/envs/Python-3.7-OpenCE/lib/python3.7/site-packages (from jupyter-dash) (1.3.3)\nRequirement already satisfied: pexpect; sys_platform != \"win32\" in /opt/conda/envs/Python-3.7-OpenCE/lib/python3.7/site-packages (from ipython->jupyter-dash) (4.8.0)\nRequirement already satisfied: pickleshare in /opt/conda/envs/Python-3.7-OpenCE/lib/python3.7/site-packages (from ipython->jupyter-dash) (0.7.5)\nRequirement already satisfied: prompt-toolkit!=3.0.0,!=3.0.1,<3.1.0,>=2.0.0 in /opt/conda/envs/Python-3.7-OpenCE/lib/python3.7/site-packages (from ipython->jupyter-dash) (3.0.5)\nRequirement already satisfied: pygments in /opt/conda/envs/Python-3.7-OpenCE/lib/python3.7/site-packages (from ipython->jupyter-dash) (2.6.1)\nRequirement already satisfied: jedi>=0.10 in /opt/conda/envs/Python-3.7-OpenCE/lib/python3.7/site-packages (from ipython->jupyter-dash) (0.17.1)\nRequirement already satisfied: setuptools>=18.5 in /opt/conda/envs/Python-3.7-OpenCE/lib/python3.7/site-packages (from ipython->jupyter-dash) (47.3.1.post20200622)\nRequirement already satisfied: backcall in /opt/conda/envs/Python-3.7-OpenCE/lib/python3.7/site-packages (from ipython->jupyter-dash) (0.2.0)\nRequirement already satisfied: decorator in /opt/conda/envs/Python-3.7-OpenCE/lib/python3.7/site-packages (from ipython->jupyter-dash) (4.4.2)\nRequirement already satisfied: traitlets>=4.2 in /opt/conda/envs/Python-3.7-OpenCE/lib/python3.7/site-packages (from ipython->jupyter-dash) (4.3.3)\nRequirement already satisfied: plotly>=5.0.0 in /opt/conda/envs/Python-3.7-OpenCE/lib/python3.7/site-packages (from dash->jupyter-dash) (5.3.1)\nRequirement already satisfied: flask-compress in /opt/conda/envs/Python-3.7-OpenCE/lib/python3.7/site-packages (from dash->jupyter-dash) (1.10.1)\nRequirement already satisfied: dash-html-components==2.0.0 in /opt/conda/envs/Python-3.7-OpenCE/lib/python3.7/site-packages (from dash->jupyter-dash) (2.0.0)\nRequirement already satisfied: dash-core-components==2.0.0 in /opt/conda/envs/Python-3.7-OpenCE/lib/python3.7/site-packages (from dash->jupyter-dash) (2.0.0)\nRequirement already satisfied: dash-table==5.0.0 in /opt/conda/envs/Python-3.7-OpenCE/lib/python3.7/site-packages (from dash->jupyter-dash) (5.0.0)\nRequirement already satisfied: jupyter-client in /opt/conda/envs/Python-3.7-OpenCE/lib/python3.7/site-packages (from ipykernel->jupyter-dash) (6.1.3)\nRequirement already satisfied: tornado>=4.2 in /opt/conda/envs/Python-3.7-OpenCE/lib/python3.7/site-packages (from ipykernel->jupyter-dash) (6.0.4)\nRequirement already satisfied: itsdangerous>=2.0 in /opt/conda/envs/Python-3.7-OpenCE/lib/python3.7/site-packages (from flask->jupyter-dash) (2.0.1)\nRequirement already satisfied: Jinja2>=3.0 in /opt/conda/envs/Python-3.7-OpenCE/lib/python3.7/site-packages (from flask->jupyter-dash) (3.0.1)\nRequirement already satisfied: Werkzeug>=2.0 in /opt/conda/envs/Python-3.7-OpenCE/lib/python3.7/site-packages (from flask->jupyter-dash) (2.0.1)\nRequirement already satisfied: click>=7.1.2 in /opt/conda/envs/Python-3.7-OpenCE/lib/python3.7/site-packages (from flask->jupyter-dash) (8.0.1)\nRequirement already satisfied: certifi>=2017.4.17 in /opt/conda/envs/Python-3.7-OpenCE/lib/python3.7/site-packages (from requests->jupyter-dash) (2021.5.30)\nRequirement already satisfied: urllib3<1.27,>=1.21.1 in /opt/conda/envs/Python-3.7-OpenCE/lib/python3.7/site-packages (from requests->jupyter-dash) (1.26.6)\nRequirement already satisfied: chardet<5,>=3.0.2 in /opt/conda/envs/Python-3.7-OpenCE/lib/python3.7/site-packages (from requests->jupyter-dash) (3.0.4)\nRequirement already satisfied: idna<3,>=2.5 in /opt/conda/envs/Python-3.7-OpenCE/lib/python3.7/site-packages (from requests->jupyter-dash) (2.8)\nRequirement already satisfied: six>=1.7.0 in /opt/conda/envs/Python-3.7-OpenCE/lib/python3.7/site-packages (from retrying->jupyter-dash) (1.15.0)\nRequirement already satisfied: ptyprocess>=0.5 in /opt/conda/envs/Python-3.7-OpenCE/lib/python3.7/site-packages (from pexpect; sys_platform != \"win32\"->ipython->jupyter-dash) (0.6.0)\nRequirement already satisfied: wcwidth in /opt/conda/envs/Python-3.7-OpenCE/lib/python3.7/site-packages (from prompt-toolkit!=3.0.0,!=3.0.1,<3.1.0,>=2.0.0->ipython->jupyter-dash) (0.2.4)\nRequirement already satisfied: parso<0.8.0,>=0.7.0 in /opt/conda/envs/Python-3.7-OpenCE/lib/python3.7/site-packages (from jedi>=0.10->ipython->jupyter-dash) (0.7.0)\nRequirement already satisfied: ipython-genutils in /opt/conda/envs/Python-3.7-OpenCE/lib/python3.7/site-packages (from traitlets>=4.2->ipython->jupyter-dash) (0.2.0)\nRequirement already satisfied: tenacity>=6.2.0 in /opt/conda/envs/Python-3.7-OpenCE/lib/python3.7/site-packages (from plotly>=5.0.0->dash->jupyter-dash) (8.0.1)\nRequirement already satisfied: brotli in /opt/conda/envs/Python-3.7-OpenCE/lib/python3.7/site-packages (from flask-compress->dash->jupyter-dash) (1.0.9)\nRequirement already satisfied: pyzmq>=13 in /opt/conda/envs/Python-3.7-OpenCE/lib/python3.7/site-packages (from jupyter-client->ipykernel->jupyter-dash) (19.0.1)\nRequirement already satisfied: jupyter-core>=4.6.0 in /opt/conda/envs/Python-3.7-OpenCE/lib/python3.7/site-packages (from jupyter-client->ipykernel->jupyter-dash) (4.6.3)\nRequirement already satisfied: python-dateutil>=2.1 in /opt/conda/envs/Python-3.7-OpenCE/lib/python3.7/site-packages (from jupyter-client->ipykernel->jupyter-dash) (2.8.1)\nRequirement already satisfied: MarkupSafe>=2.0 in /opt/conda/envs/Python-3.7-OpenCE/lib/python3.7/site-packages (from Jinja2>=3.0->flask->jupyter-dash) (2.0.1)\nRequirement already satisfied: importlib-metadata; python_version < \"3.8\" in /opt/conda/envs/Python-3.7-OpenCE/lib/python3.7/site-packages (from click>=7.1.2->flask->jupyter-dash) (1.6.1)\nRequirement already satisfied: zipp>=0.5 in /opt/conda/envs/Python-3.7-OpenCE/lib/python3.7/site-packages (from importlib-metadata; python_version < \"3.8\"->click>=7.1.2->flask->jupyter-dash) (3.1.0)\nInstalling collected packages: ansi2html, jupyter-dash\nSuccessfully installed ansi2html-1.6.0 jupyter-dash-0.4.0\n"
                }
            ],
            "source": "!pip install jupyter-dash"
        },
        {
            "cell_type": "code",
            "execution_count": 2,
            "metadata": {},
            "outputs": [],
            "source": "import pandas as pd\nimport dash\nimport dash_html_components as html\nimport dash_core_components as dcc\nfrom dash.dependencies import Input, Output\nimport plotly.express as px\nfrom jupyter_dash import JupyterDash"
        },
        {
            "cell_type": "code",
            "execution_count": 3,
            "metadata": {},
            "outputs": [],
            "source": "JupyterDash.infer_jupyter_proxy_config()"
        },
        {
            "cell_type": "code",
            "execution_count": null,
            "metadata": {},
            "outputs": [
                {
                    "ename": "OSError",
                    "evalue": "Unable to communicate with the jupyter_dash notebook or JupyterLab \nextension required to infer Jupyter configuration.",
                    "output_type": "error",
                    "traceback": [
                        "\u001b[0;31m---------------------------------------------------------------------------\u001b[0m",
                        "\u001b[0;31mOSError\u001b[0m                                   Traceback (most recent call last)",
                        "\u001b[0;32m<ipython-input-2-aac7d3a89f28>\u001b[0m in \u001b[0;36m<module>\u001b[0;34m\u001b[0m\n\u001b[0;32m----> 1\u001b[0;31m \u001b[0mJupyterDash\u001b[0m\u001b[0;34m.\u001b[0m\u001b[0minfer_jupyter_proxy_config\u001b[0m\u001b[0;34m(\u001b[0m\u001b[0;34m)\u001b[0m\u001b[0;34m\u001b[0m\u001b[0;34m\u001b[0m\u001b[0m\n\u001b[0m",
                        "\u001b[0;32m/opt/conda/envs/Python-3.7-OpenCE/lib/python3.7/site-packages/jupyter_dash/jupyter_app.py\u001b[0m in \u001b[0;36minfer_jupyter_proxy_config\u001b[0;34m(cls)\u001b[0m\n\u001b[1;32m     71\u001b[0m         \u001b[0;32melse\u001b[0m\u001b[0;34m:\u001b[0m\u001b[0;34m\u001b[0m\u001b[0;34m\u001b[0m\u001b[0m\n\u001b[1;32m     72\u001b[0m             \u001b[0;31m# Assume classic notebook or JupyterLab\u001b[0m\u001b[0;34m\u001b[0m\u001b[0;34m\u001b[0m\u001b[0;34m\u001b[0m\u001b[0m\n\u001b[0;32m---> 73\u001b[0;31m             \u001b[0m_request_jupyter_config\u001b[0m\u001b[0;34m(\u001b[0m\u001b[0;34m)\u001b[0m\u001b[0;34m\u001b[0m\u001b[0;34m\u001b[0m\u001b[0m\n\u001b[0m\u001b[1;32m     74\u001b[0m \u001b[0;34m\u001b[0m\u001b[0m\n\u001b[1;32m     75\u001b[0m     \u001b[0;32mdef\u001b[0m \u001b[0m__init__\u001b[0m\u001b[0;34m(\u001b[0m\u001b[0mself\u001b[0m\u001b[0;34m,\u001b[0m \u001b[0mname\u001b[0m\u001b[0;34m=\u001b[0m\u001b[0;32mNone\u001b[0m\u001b[0;34m,\u001b[0m \u001b[0mserver_url\u001b[0m\u001b[0;34m=\u001b[0m\u001b[0;32mNone\u001b[0m\u001b[0;34m,\u001b[0m \u001b[0;34m**\u001b[0m\u001b[0mkwargs\u001b[0m\u001b[0;34m)\u001b[0m\u001b[0;34m:\u001b[0m\u001b[0;34m\u001b[0m\u001b[0;34m\u001b[0m\u001b[0m\n",
                        "\u001b[0;32m/opt/conda/envs/Python-3.7-OpenCE/lib/python3.7/site-packages/jupyter_dash/comms.py\u001b[0m in \u001b[0;36m_request_jupyter_config\u001b[0;34m(timeout)\u001b[0m\n\u001b[1;32m     61\u001b[0m             \u001b[0;31m# give up\u001b[0m\u001b[0;34m\u001b[0m\u001b[0;34m\u001b[0m\u001b[0;34m\u001b[0m\u001b[0m\n\u001b[1;32m     62\u001b[0m             raise EnvironmentError(\n\u001b[0;32m---> 63\u001b[0;31m                 \u001b[0;34m\"Unable to communicate with the jupyter_dash notebook or JupyterLab \\n\"\u001b[0m\u001b[0;34m\u001b[0m\u001b[0;34m\u001b[0m\u001b[0m\n\u001b[0m\u001b[1;32m     64\u001b[0m                 \u001b[0;34m\"extension required to infer Jupyter configuration.\"\u001b[0m\u001b[0;34m\u001b[0m\u001b[0;34m\u001b[0m\u001b[0m\n\u001b[1;32m     65\u001b[0m             )\n",
                        "\u001b[0;31mOSError\u001b[0m: Unable to communicate with the jupyter_dash notebook or JupyterLab \nextension required to infer Jupyter configuration."
                    ]
                }
            ],
            "source": "JupyterDash.infer_jupyter_proxy_config()"
        },
        {
            "cell_type": "code",
            "execution_count": 3,
            "metadata": {},
            "outputs": [],
            "source": "# Read the airline data into pandas dataframe\nspacex_df = pd.read_csv(\"https://cf-courses-data.s3.us.cloud-object-storage.appdomain.cloud/IBM-DS0321EN-SkillsNetwork/datasets/spacex_launch_dash.csv\")\nmax_payload = spacex_df['Payload Mass (kg)'].max()\nmin_payload = spacex_df['Payload Mass (kg)'].min()\nmarks_range = {i: str(i) for i in range(0, 12500, 2500)}\n\nlaunch_sites = spacex_df['Launch Site'].unique().tolist()\nlaunch_sites_labels = [{'label': 'All Sites', 'value': 'ALL'}]\nlaunch_sites_options = {}\nfor i, site in enumerate(launch_sites):\n    launch_sites_labels.append({'label': site, 'value': f'SITE{i}'})\n    launch_sites_options[f'SITE{i}'] = site"
        },
        {
            "cell_type": "code",
            "execution_count": null,
            "metadata": {},
            "outputs": [],
            "source": "# Create an app layout\napp.layout = html.Div(children=[html.H1('SpaceX Launch Records Dashboard',\n                                        style={'textAlign': 'center', 'color': '#503D36',\n                                               'font-size': 40}),\n                                # TASK 1: Add a dropdown list to enable Launch Site selection\n                                # The default select value is for ALL sites\n                                dcc.Dropdown(id='site-dropdown',\n                                             options=launch_sites_labels,\n                                             value='ALL',\n                                             placeholder='Select a Launch Site',\n                                             searchable=True),\n                                html.Br(),\n\n                                # TASK 2: Add a pie chart to show the total successful launches count for all sites\n                                # If a specific launch site was selected, show the Success vs. Failed counts for the site\n                                html.Div(dcc.Graph(id='success-pie-chart')),\n                                html.Br(),\n\n                                html.P(\"Payload range (Kg):\"),\n                                # TASK 3: Add a slider to select payload range\n                                dcc.RangeSlider(id='payload-slider',\n                                                min=0, max=10000, step=1000,\n                                                marks=marks_range,\n                                                value=[min_payload, max_payload]),\n\n                                # TASK 4: Add a scatter chart to show the correlation between payload and launch success\n                                html.Div(dcc.Graph(id='success-payload-scatter-chart')),\n                                ])"
        },
        {
            "cell_type": "code",
            "execution_count": null,
            "metadata": {},
            "outputs": [],
            "source": "# TASK 2:\n# Add a callback function for `site-dropdown` as input, `success-pie-chart` as output\n@app.callback( Output(component_id='success-pie-chart', component_property='figure'),\n               Input(component_id='site-dropdown', component_property='value'))\ndef get_graph_pie(entered_site):\n    if entered_site == 'ALL':\n        filtered_df = spacex_df[spacex_df['class'] == 1]\n        filtered_df = filtered_df.groupby('Launch Site')['class'].count().reset_index()\n        fig = px.pie(filtered_df, values='class',\n        names='Launch Site',\n        title='Total Success Launches By Site')\n        return fig\n    else:\n        filtered_df = spacex_df[spacex_df['Launch Site'] == launch_sites_options[entered_site]]\n        filtered_df = filtered_df.groupby('class')['Launch Site'].count().reset_index()\n        fig = px.pie(filtered_df, values='Launch Site',\n        names='class',\n        title=f'Total Success Launches for Site {launch_sites_options[entered_site]}')\n        return fig\n"
        },
        {
            "cell_type": "code",
            "execution_count": null,
            "metadata": {},
            "outputs": [],
            "source": "# TASK 4:\n# Add a callback function for `site-dropdown` and `payload-slider` as inputs, `success-payload-scatter-chart` as output\n@app.callback( Output(component_id='success-payload-scatter-chart', component_property='figure'),\n               Input(component_id='site-dropdown', component_property='value'),\n               Input(component_id='payload-slider', component_property='value'))\ndef get_graph_scatter(entered_site, entered_range):\n    filtered_df = spacex_df[spacex_df['Payload Mass (kg)'].between(entered_range[0], entered_range[1], inclusive=True)]\n    if entered_site == 'ALL':\n        fig = px.scatter(filtered_df,\n                         x='Payload Mass (kg)', y='class', color=\"Booster Version Category\",\n                         title=\"Correlation between Payload and Success for all Sites\")\n        return fig\n    else:\n        filtered_df = filtered_df[filtered_df['Launch Site'] == launch_sites_options[entered_site]]\n        fig = px.scatter(filtered_df,\n                         x='Payload Mass (kg)', y='class', color=\"Booster Version Category\",\n                         title=f\"Correlation between Payload and Success for Site {launch_sites_options[entered_site]}\")\n        return fig"
        },
        {
            "cell_type": "code",
            "execution_count": null,
            "metadata": {},
            "outputs": [],
            "source": "app = JupyterDash(__name__)"
        },
        {
            "cell_type": "code",
            "execution_count": null,
            "metadata": {},
            "outputs": [],
            "source": "if __name__ == '__main__':\n    app.run_server(mode=\"inline\", host=\"localhost\")"
        }
    ],
    "metadata": {
        "kernelspec": {
            "display_name": "Python 3.7",
            "language": "python",
            "name": "python3"
        },
        "language_info": {
            "codemirror_mode": {
                "name": "ipython",
                "version": 3
            },
            "file_extension": ".py",
            "mimetype": "text/x-python",
            "name": "python",
            "nbconvert_exporter": "python",
            "pygments_lexer": "ipython3",
            "version": "3.7.11"
        }
    },
    "nbformat": 4,
    "nbformat_minor": 1
}